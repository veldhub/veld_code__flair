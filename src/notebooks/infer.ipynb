{
 "cells": [
  {
   "cell_type": "code",
   "execution_count": null,
   "id": "a02f7773-bf53-42e6-b88c-e2d16000d651",
   "metadata": {},
   "outputs": [],
   "source": [
    "import json\n",
    "import os\n",
    "from flair.nn import Classifier\n",
    "from flair.data import Sentence"
   ]
  },
  {
   "cell_type": "code",
   "execution_count": null,
   "id": "62f3e35a-fbff-4e9f-8e3d-63eb26805bc7",
   "metadata": {},
   "outputs": [],
   "source": [
    "def handle_file(var_name):\n",
    "    var_value = os.getenv(var_name)\n",
    "    if var_value is None or var_value == \"\":\n",
    "        raise Exception(f\"var not defined: '{var_name}'\")\n",
    "    else:\n",
    "        return var_value\n",
    "\n",
    "IN_FILE = \"/veld/input/data/\" + handle_file(\"in_file\")\n",
    "OUT_FILE = \"/veld/output/\" + handle_file(\"out_file\")\n",
    "DO_SPLIT_SENTENCES = os.getenv(\"do_split_sentences\") == \"true\"\n",
    "MODEL_INFER_NER = os.getenv(\"model_infer_ner\")\n",
    "MODEL_INFER_SENTIMENT = os.getenv(\"model_infer_sentiment\")\n",
    "MODEL_INFER_LINKS = os.getenv(\"model_infer_links\")\n",
    "\n",
    "print(f\"IN_FILE: {IN_FILE}\")\n",
    "print(f\"OUT_FILE: {OUT_FILE}\")\n",
    "print(f\"DO_SPLIT_SENTENCES: {DO_SPLIT_SENTENCES}\")\n",
    "print(f\"MODEL_INFER_NER: {MODEL_INFER_NER}\")\n",
    "print(f\"MODEL_INFER_SENTIMENT: {MODEL_INFER_SENTIMENT}\")\n",
    "print(f\"MODEL_INFER_LINKS: {MODEL_INFER_LINKS}\")"
   ]
  },
  {
   "cell_type": "code",
   "execution_count": null,
   "id": "af37dd27-57f7-4115-9c93-9e547feb62df",
   "metadata": {},
   "outputs": [],
   "source": [
    "with open(IN_FILE, \"r\") as f:\n",
    "    text = f.read()"
   ]
  },
  {
   "cell_type": "code",
   "execution_count": null,
   "id": "985609dd-b524-4f8e-a60b-e420b0a36aed",
   "metadata": {},
   "outputs": [],
   "source": [
    "if DO_SPLIT_SENTENCES:\n",
    "    from flair.splitter import SegtokSentenceSplitter\n",
    "    splitter = SegtokSentenceSplitter()\n",
    "    global text\n",
    "    text = splitter.split(text)"
   ]
  },
  {
   "cell_type": "code",
   "execution_count": null,
   "id": "b0828685-96c0-498e-b58c-87d3a2653118",
   "metadata": {},
   "outputs": [],
   "source": [
    "if MODEL_INFER_NER is not None:\n",
    "    classifier = Classifier.load(MODEL_INFER_NER)\n",
    "    classifier.predict(text)"
   ]
  },
  {
   "cell_type": "code",
   "execution_count": null,
   "id": "72900560-6d29-4115-92d3-a25c3252bed4",
   "metadata": {},
   "outputs": [],
   "source": [
    "if MODEL_INFER_SENTIMENT is not None:\n",
    "    classifier = Classifier.load(MODEL_INFER_SENTIMENT)\n",
    "    classifier.predict(text)"
   ]
  },
  {
   "cell_type": "code",
   "execution_count": null,
   "id": "65cb6126-3307-4580-ade5-b3fd4c2a10f6",
   "metadata": {},
   "outputs": [],
   "source": [
    "if MODEL_INFER_LINKS is not None:\n",
    "    pass"
   ]
  },
  {
   "cell_type": "code",
   "execution_count": null,
   "id": "1385401b-c21a-4b0e-b397-a3feff067e8c",
   "metadata": {},
   "outputs": [],
   "source": [
    "# infer_frame"
   ]
  },
  {
   "cell_type": "code",
   "execution_count": null,
   "id": "fe640e3d-5b66-40a2-bcf6-6abc3f7d3ab7",
   "metadata": {},
   "outputs": [],
   "source": [
    "# infer_chunk"
   ]
  },
  {
   "cell_type": "code",
   "execution_count": null,
   "id": "82b5c296-9918-43bb-8d56-6958ccbe8bb0",
   "metadata": {},
   "outputs": [],
   "source": [
    "# infer_relations"
   ]
  },
  {
   "cell_type": "code",
   "execution_count": null,
   "id": "7ef59a2a-2b57-4704-90dd-1aa9c6c59541",
   "metadata": {},
   "outputs": [],
   "source": [
    "if type(text) is list:\n",
    "    text = [s.to_dict() for s in text]\n",
    "elif type(text) is Sentence:\n",
    "    text = text.to_dict()\n",
    "with open(OUT_FILE, \"w\") as f:\n",
    "    json.dump(text, f, indent=4, ensure_ascii=False)"
   ]
  }
 ],
 "metadata": {
  "kernelspec": {
   "display_name": "Python 3 (ipykernel)",
   "language": "python",
   "name": "python3"
  },
  "language_info": {
   "codemirror_mode": {
    "name": "ipython",
    "version": 3
   },
   "file_extension": ".py",
   "mimetype": "text/x-python",
   "name": "python",
   "nbconvert_exporter": "python",
   "pygments_lexer": "ipython3",
   "version": "3.11.11"
  }
 },
 "nbformat": 4,
 "nbformat_minor": 5
}
