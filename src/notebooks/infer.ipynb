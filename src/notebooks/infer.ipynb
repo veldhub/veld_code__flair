{
 "cells": [
  {
   "cell_type": "markdown",
   "id": "9b6511c8-8f53-4f9c-aadd-512c6626ab28",
   "metadata": {},
   "source": [
    "# imports"
   ]
  },
  {
   "cell_type": "code",
   "execution_count": null,
   "id": "a02f7773-bf53-42e6-b88c-e2d16000d651",
   "metadata": {},
   "outputs": [],
   "source": [
    "import json\n",
    "import os\n",
    "from flair.nn import Classifier\n",
    "from flair.data import Sentence"
   ]
  },
  {
   "cell_type": "markdown",
   "id": "1526478d-6f7b-43d1-b6c8-50517d413d52",
   "metadata": {},
   "source": [
    "# config"
   ]
  },
  {
   "cell_type": "code",
   "execution_count": null,
   "id": "62f3e35a-fbff-4e9f-8e3d-63eb26805bc7",
   "metadata": {},
   "outputs": [],
   "source": [
    "IN_FILE = \"/veld/input/data/\" + os.getenv(\"in_file\")\n",
    "OUT_FILE = \"/veld/output/\" + os.getenv(\"out_file\")\n",
    "DO_SPLIT_SENTENCES = os.getenv(\"do_split_sentences\") == \"true\"\n",
    "MODEL_INFER_NER = os.getenv(\"model_infer_ner\")\n",
    "MODEL_INFER_SENTIMENT = os.getenv(\"model_infer_sentiment\")\n",
    "MODEL_INFER_LINKER = os.getenv(\"model_infer_linker\")\n",
    "MODEL_INFER_FRAME = os.getenv(\"model_infer_frame\")\n",
    "MODEL_INFER_CHUNK = os.getenv(\"model_infer_chunk\")\n",
    "MODEL_INFER_RELATIONS = os.getenv(\"model_infer_relations\")\n",
    "\n",
    "print(f\"IN_FILE: {IN_FILE}\")\n",
    "print(f\"OUT_FILE: {OUT_FILE}\")\n",
    "print(f\"DO_SPLIT_SENTENCES: {DO_SPLIT_SENTENCES}\")\n",
    "print(f\"MODEL_INFER_NER: {MODEL_INFER_NER}\")\n",
    "print(f\"MODEL_INFER_SENTIMENT: {MODEL_INFER_SENTIMENT}\")\n",
    "print(f\"MODEL_INFER_LINKER: {MODEL_INFER_LINKER}\")\n",
    "print(f\"MODEL_INFER_FRAME: {MODEL_INFER_FRAME}\")\n",
    "print(f\"MODEL_INFER_CHUNK: {MODEL_INFER_CHUNK}\")\n",
    "print(f\"MODEL_INFER_RELATIONS: {MODEL_INFER_RELATIONS}\")"
   ]
  },
  {
   "cell_type": "markdown",
   "id": "9bdd4e09-3bfc-4f76-93f9-a7ca4a3a7b72",
   "metadata": {},
   "source": [
    "# load"
   ]
  },
  {
   "cell_type": "code",
   "execution_count": null,
   "id": "af37dd27-57f7-4115-9c93-9e547feb62df",
   "metadata": {},
   "outputs": [],
   "source": [
    "with open(IN_FILE, \"r\") as f:\n",
    "    text = f.read()"
   ]
  },
  {
   "cell_type": "code",
   "execution_count": null,
   "id": "985609dd-b524-4f8e-a60b-e420b0a36aed",
   "metadata": {},
   "outputs": [],
   "source": [
    "if DO_SPLIT_SENTENCES:\n",
    "    from flair.splitter import SegtokSentenceSplitter\n",
    "    splitter = SegtokSentenceSplitter()\n",
    "    text = splitter.split(text)"
   ]
  },
  {
   "cell_type": "markdown",
   "id": "a2735f99-7ebd-46a1-b9dc-820db7d509b6",
   "metadata": {},
   "source": [
    "# infer"
   ]
  },
  {
   "cell_type": "code",
   "execution_count": null,
   "id": "b0828685-96c0-498e-b58c-87d3a2653118",
   "metadata": {},
   "outputs": [],
   "source": [
    "if MODEL_INFER_NER:\n",
    "    classifier = Classifier.load(MODEL_INFER_NER)\n",
    "    classifier.predict(text)"
   ]
  },
  {
   "cell_type": "code",
   "execution_count": null,
   "id": "72900560-6d29-4115-92d3-a25c3252bed4",
   "metadata": {},
   "outputs": [],
   "source": [
    "if MODEL_INFER_SENTIMENT:\n",
    "    classifier = Classifier.load(MODEL_INFER_SENTIMENT)\n",
    "    classifier.predict(text)"
   ]
  },
  {
   "cell_type": "code",
   "execution_count": null,
   "id": "65cb6126-3307-4580-ade5-b3fd4c2a10f6",
   "metadata": {},
   "outputs": [],
   "source": [
    "if MODEL_INFER_LINKER:\n",
    "    classifier = Classifier.load(MODEL_INFER_LINKER)\n",
    "    classifier.predict(text)"
   ]
  },
  {
   "cell_type": "code",
   "execution_count": null,
   "id": "1385401b-c21a-4b0e-b397-a3feff067e8c",
   "metadata": {},
   "outputs": [],
   "source": [
    "if MODEL_INFER_FRAME:\n",
    "    classifier = Classifier.load(MODEL_INFER_FRAME)\n",
    "    classifier.predict(text)"
   ]
  },
  {
   "cell_type": "code",
   "execution_count": null,
   "id": "fe640e3d-5b66-40a2-bcf6-6abc3f7d3ab7",
   "metadata": {},
   "outputs": [],
   "source": [
    "if MODEL_INFER_CHUNK:\n",
    "    classifier = Classifier.load(MODEL_INFER_CHUNK)\n",
    "    classifier.predict(text)"
   ]
  },
  {
   "cell_type": "code",
   "execution_count": null,
   "id": "82b5c296-9918-43bb-8d56-6958ccbe8bb0",
   "metadata": {},
   "outputs": [],
   "source": [
    "if MODEL_INFER_RELATIONS:\n",
    "    classifier = Classifier.load(MODEL_INFER_RELATIONS)\n",
    "    classifier.predict(text)"
   ]
  },
  {
   "cell_type": "markdown",
   "id": "19daf378-b903-4550-8b66-9b7fcf34c91e",
   "metadata": {},
   "source": [
    "# persist"
   ]
  },
  {
   "cell_type": "code",
   "execution_count": null,
   "id": "7ef59a2a-2b57-4704-90dd-1aa9c6c59541",
   "metadata": {},
   "outputs": [],
   "source": [
    "if type(text) is list:\n",
    "    text = [s.to_dict() for s in text]\n",
    "elif type(text) is Sentence:\n",
    "    text = text.to_dict()\n",
    "with open(OUT_FILE, \"w\") as f:\n",
    "    json.dump(text, f, indent=4, ensure_ascii=False)"
   ]
  }
 ],
 "metadata": {
  "kernelspec": {
   "display_name": "Python 3 (ipykernel)",
   "language": "python",
   "name": "python3"
  },
  "language_info": {
   "codemirror_mode": {
    "name": "ipython",
    "version": 3
   },
   "file_extension": ".py",
   "mimetype": "text/x-python",
   "name": "python",
   "nbconvert_exporter": "python",
   "pygments_lexer": "ipython3",
   "version": "3.11.11"
  }
 },
 "nbformat": 4,
 "nbformat_minor": 5
}
